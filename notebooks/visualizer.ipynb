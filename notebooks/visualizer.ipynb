{
 "cells": [
  {
   "cell_type": "code",
   "execution_count": 1,
   "metadata": {},
   "outputs": [],
   "source": [
    "%load_ext autoreload\n",
    "%autoreload 2"
   ]
  },
  {
   "cell_type": "code",
   "execution_count": 2,
   "metadata": {},
   "outputs": [],
   "source": [
    "from picow_ledwall_visualizer.visualizer import LedWallVisualizer\n",
    "\n",
    "from picow_ledwall.base import Text, Char"
   ]
  },
  {
   "cell_type": "code",
   "execution_count": 3,
   "metadata": {},
   "outputs": [
    {
     "name": "stdout",
     "output_type": "stream",
     "text": [
      "1 0 (255, 0, 0)\n",
      "2 0 (255, 0, 0)\n",
      "3 0 (255, 0, 0)\n",
      "0 1 (255, 0, 0)\n",
      "4 1 (255, 0, 0)\n",
      "0 2 (255, 0, 0)\n",
      "0 3 (255, 0, 0)\n",
      "0 4 (255, 0, 0)\n",
      "0 5 (255, 0, 0)\n",
      "4 5 (255, 0, 0)\n",
      "1 6 (255, 0, 0)\n",
      "2 6 (255, 0, 0)\n",
      "3 6 (255, 0, 0)\n"
     ]
    }
   ],
   "source": [
    "c = Char('C',(255,0,0))\n",
    "for pixel in c.pixels:\n",
    "    print(pixel.x, pixel.y, pixel.color)"
   ]
  },
  {
   "cell_type": "code",
   "execution_count": 4,
   "metadata": {},
   "outputs": [
    {
     "data": {
      "text/plain": [
       "'Ciao!'"
      ]
     },
     "execution_count": 4,
     "metadata": {},
     "output_type": "execute_result"
    }
   ],
   "source": [
    "txt = Text(\"Ciao!\",(255,255,255))\n",
    "txt.text"
   ]
  },
  {
   "cell_type": "code",
   "execution_count": 5,
   "metadata": {},
   "outputs": [],
   "source": [
    "ledwall = LedWallVisualizer(8,46)"
   ]
  },
  {
   "cell_type": "code",
   "execution_count": 6,
   "metadata": {},
   "outputs": [
    {
     "name": "stdout",
     "output_type": "stream",
     "text": [
      "C\n",
      "I\n",
      "A\n",
      "O\n",
      "!\n"
     ]
    },
    {
     "data": {
      "image/png": "[encoded data removed]",
      "text/plain": [
       "<Figure size 640x480 with 1 Axes>"
      ]
     },
     "metadata": {},
     "output_type": "display_data"
    }
   ],
   "source": [
    "ledwall.fill_grid(objects=[txt])\n",
    "ledwall.show()"
   ]
  },
  {
   "cell_type": "code",
   "execution_count": null,
   "metadata": {},
   "outputs": [],
   "source": []
  }
 ],
 "metadata": {
  "kernelspec": {
   "display_name": ".venv",
   "language": "python",
   "name": "python3"
  },
  "language_info": {
   "codemirror_mode": {
    "name": "ipython",
    "version": 3
   },
   "file_extension": ".py",
   "mimetype": "text/x-python",
   "name": "python",
   "nbconvert_exporter": "python",
   "pygments_lexer": "ipython3",
   "version": "3.12.4"
  }
 },
 "nbformat": 4,
 "nbformat_minor": 2
}
