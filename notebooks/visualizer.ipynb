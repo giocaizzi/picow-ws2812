{
 "cells": [
  {
   "cell_type": "code",
   "execution_count": 6,
   "metadata": {},
   "outputs": [
    {
     "name": "stdout",
     "output_type": "stream",
     "text": [
      "The autoreload extension is already loaded. To reload it, use:\n",
      "  %reload_ext autoreload\n"
     ]
    }
   ],
   "source": [
    "%load_ext autoreload\n",
    "%autoreload 2"
   ]
  },
  {
   "cell_type": "code",
   "execution_count": 7,
   "metadata": {},
   "outputs": [],
   "source": [
    "from picow_ledwall_visualizer.visualizer import LedWallVisualizer\n",
    "\n",
    "from picow_ledwall.base import Text, Char"
   ]
  },
  {
   "cell_type": "code",
   "execution_count": 8,
   "metadata": {},
   "outputs": [
    {
     "name": "stdout",
     "output_type": "stream",
     "text": [
      "51 0 (255, 0, 0)\n",
      "52 0 (255, 0, 0)\n",
      "53 0 (255, 0, 0)\n",
      "50 1 (255, 0, 0)\n",
      "54 1 (255, 0, 0)\n",
      "50 2 (255, 0, 0)\n",
      "50 3 (255, 0, 0)\n",
      "50 4 (255, 0, 0)\n",
      "50 5 (255, 0, 0)\n",
      "54 5 (255, 0, 0)\n",
      "51 6 (255, 0, 0)\n",
      "52 6 (255, 0, 0)\n",
      "53 6 (255, 0, 0)\n",
      "51 0 (255, 255, 255)\n",
      "52 0 (255, 255, 255)\n",
      "53 0 (255, 255, 255)\n",
      "50 1 (255, 255, 255)\n",
      "54 1 (255, 255, 255)\n",
      "50 2 (255, 255, 255)\n",
      "50 3 (255, 255, 255)\n",
      "50 4 (255, 255, 255)\n",
      "50 5 (255, 255, 255)\n",
      "54 5 (255, 255, 255)\n",
      "51 6 (255, 255, 255)\n",
      "52 6 (255, 255, 255)\n",
      "53 6 (255, 255, 255)\n",
      "51 0 (255, 255, 255)\n",
      "52 0 (255, 255, 255)\n",
      "53 0 (255, 255, 255)\n",
      "52 1 (255, 255, 255)\n",
      "52 2 (255, 255, 255)\n",
      "52 3 (255, 255, 255)\n",
      "52 4 (255, 255, 255)\n",
      "52 5 (255, 255, 255)\n",
      "51 6 (255, 255, 255)\n",
      "52 6 (255, 255, 255)\n",
      "53 6 (255, 255, 255)\n",
      "47 0 (255, 255, 255)\n",
      "46 1 (255, 255, 255)\n",
      "48 1 (255, 255, 255)\n",
      "45 2 (255, 255, 255)\n",
      "49 2 (255, 255, 255)\n",
      "45 3 (255, 255, 255)\n",
      "46 3 (255, 255, 255)\n",
      "47 3 (255, 255, 255)\n",
      "48 3 (255, 255, 255)\n",
      "49 3 (255, 255, 255)\n",
      "45 4 (255, 255, 255)\n",
      "49 4 (255, 255, 255)\n",
      "45 5 (255, 255, 255)\n",
      "49 5 (255, 255, 255)\n",
      "45 6 (255, 255, 255)\n",
      "49 6 (255, 255, 255)\n",
      "36 0 (255, 255, 255)\n",
      "37 0 (255, 255, 255)\n",
      "38 0 (255, 255, 255)\n",
      "35 1 (255, 255, 255)\n",
      "39 1 (255, 255, 255)\n",
      "35 2 (255, 255, 255)\n",
      "39 2 (255, 255, 255)\n",
      "35 3 (255, 255, 255)\n",
      "39 3 (255, 255, 255)\n",
      "35 4 (255, 255, 255)\n",
      "39 4 (255, 255, 255)\n",
      "35 5 (255, 255, 255)\n",
      "39 5 (255, 255, 255)\n",
      "36 6 (255, 255, 255)\n",
      "37 6 (255, 255, 255)\n",
      "38 6 (255, 255, 255)\n",
      "22 0 (255, 255, 255)\n",
      "22 1 (255, 255, 255)\n",
      "22 2 (255, 255, 255)\n",
      "22 3 (255, 255, 255)\n",
      "22 4 (255, 255, 255)\n",
      "22 6 (255, 255, 255)\n",
      "1 0 (255, 0, 0)\n",
      "2 0 (255, 0, 0)\n",
      "3 0 (255, 0, 0)\n",
      "0 1 (255, 0, 0)\n",
      "4 1 (255, 0, 0)\n",
      "0 2 (255, 0, 0)\n",
      "0 3 (255, 0, 0)\n",
      "0 4 (255, 0, 0)\n",
      "0 5 (255, 0, 0)\n",
      "4 5 (255, 0, 0)\n",
      "1 6 (255, 0, 0)\n",
      "2 6 (255, 0, 0)\n",
      "3 6 (255, 0, 0)\n"
     ]
    }
   ],
   "source": [
    "c = Char('C',(255,0,0))\n",
    "for pixel in c.pixels:\n",
    "    print(pixel.x, pixel.y, pixel.color)"
   ]
  },
  {
   "cell_type": "code",
   "execution_count": 9,
   "metadata": {},
   "outputs": [
    {
     "data": {
      "text/plain": [
       "'Ciao!'"
      ]
     },
     "execution_count": 9,
     "metadata": {},
     "output_type": "execute_result"
    }
   ],
   "source": [
    "txt = Text(\"Ciao!\",(255,255,255))\n",
    "txt.text"
   ]
  },
  {
   "cell_type": "code",
   "execution_count": 11,
   "metadata": {},
   "outputs": [],
   "source": [
    "ledwall = LedWallVisualizer(8,46)"
   ]
  },
  {
   "cell_type": "code",
   "execution_count": 12,
   "metadata": {},
   "outputs": [
    {
     "name": "stdout",
     "output_type": "stream",
     "text": [
      "C\n",
      "101 0 (255, 0, 0)\n"
     ]
    },
    {
     "ename": "IndexError",
     "evalue": "index 100 is out of bounds for axis 1 with size 46",
     "output_type": "error",
     "traceback": [
      "\u001b[0;31m---------------------------------------------------------------------------\u001b[0m",
      "\u001b[0;31mIndexError\u001b[0m                                Traceback (most recent call last)",
      "Cell \u001b[0;32mIn[12], line 1\u001b[0m\n\u001b[0;32m----> 1\u001b[0m \u001b[43mledwall\u001b[49m\u001b[38;5;241;43m.\u001b[39;49m\u001b[43mfill_grid\u001b[49m\u001b[43m(\u001b[49m\u001b[43mobjects\u001b[49m\u001b[38;5;241;43m=\u001b[39;49m\u001b[43m[\u001b[49m\u001b[43mtxt\u001b[49m\u001b[43m]\u001b[49m\u001b[43m)\u001b[49m\n",
      "File \u001b[0;32m~/Documents/GitHub/picow-ledwall/src/picow_ledwall_visualizer/visualizer.py:27\u001b[0m, in \u001b[0;36mLedWallVisualizer.fill_grid\u001b[0;34m(self, objects)\u001b[0m\n\u001b[1;32m     25\u001b[0m \u001b[38;5;28mprint\u001b[39m(pixel\u001b[38;5;241m.\u001b[39mx, pixel\u001b[38;5;241m.\u001b[39my, pixel\u001b[38;5;241m.\u001b[39mcolor)\n\u001b[1;32m     26\u001b[0m x, y, color_tuple \u001b[38;5;241m=\u001b[39m pixel\u001b[38;5;241m.\u001b[39mx, pixel\u001b[38;5;241m.\u001b[39my, pixel\u001b[38;5;241m.\u001b[39mcolor\n\u001b[0;32m---> 27\u001b[0m \u001b[38;5;28;43mself\u001b[39;49m\u001b[38;5;241;43m.\u001b[39;49m\u001b[43mgrid\u001b[49m\u001b[43m[\u001b[49m\u001b[43my\u001b[49m\u001b[43m \u001b[49m\u001b[38;5;241;43m-\u001b[39;49m\u001b[43m \u001b[49m\u001b[38;5;241;43m1\u001b[39;49m\u001b[43m,\u001b[49m\u001b[43m \u001b[49m\u001b[43mx\u001b[49m\u001b[43m \u001b[49m\u001b[38;5;241;43m-\u001b[39;49m\u001b[43m \u001b[49m\u001b[38;5;241;43m1\u001b[39;49m\u001b[43m]\u001b[49m \u001b[38;5;241m=\u001b[39m color_tuple\n",
      "\u001b[0;31mIndexError\u001b[0m: index 100 is out of bounds for axis 1 with size 46"
     ]
    }
   ],
   "source": [
    "ledwall.fill_grid(objects=[txt])"
   ]
  },
  {
   "cell_type": "code",
   "execution_count": null,
   "metadata": {},
   "outputs": [],
   "source": []
  }
 ],
 "metadata": {
  "kernelspec": {
   "display_name": ".venv",
   "language": "python",
   "name": "python3"
  },
  "language_info": {
   "codemirror_mode": {
    "name": "ipython",
    "version": 3
   },
   "file_extension": ".py",
   "mimetype": "text/x-python",
   "name": "python",
   "nbconvert_exporter": "python",
   "pygments_lexer": "ipython3",
   "version": "3.12.4"
  }
 },
 "nbformat": 4,
 "nbformat_minor": 2
}
